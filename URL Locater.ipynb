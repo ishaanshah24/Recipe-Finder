{
 "cells": [
  {
   "cell_type": "code",
   "execution_count": 1,
   "id": "a8a00396",
   "metadata": {},
   "outputs": [],
   "source": [
    "import requests\n",
    "from bs4 import BeautifulSoup\n",
    "import numpy as np"
   ]
  },
  {
   "cell_type": "code",
   "execution_count": 2,
   "id": "285e9a5d",
   "metadata": {},
   "outputs": [
    {
     "data": {
      "text/plain": [
       "'/Users/IshaanShah/Desktop/Recipe_Finder/Images/food-101/food-101/meta'"
      ]
     },
     "execution_count": 2,
     "metadata": {},
     "output_type": "execute_result"
    }
   ],
   "source": [
    "import os\n",
    "os.chdir(\"/Users/IshaanShah/Desktop/Recipe_Finder/Images/food-101/food-101/meta\")\n",
    "os.getcwd()"
   ]
  },
  {
   "cell_type": "code",
   "execution_count": 3,
   "id": "d0fba439",
   "metadata": {},
   "outputs": [],
   "source": [
    "with open(\"labels.txt\") as l:\n",
    "    food_names = l.readlines()"
   ]
  },
  {
   "cell_type": "code",
   "execution_count": 4,
   "id": "0ebc75c5",
   "metadata": {},
   "outputs": [
    {
     "data": {
      "text/plain": [
       "['Apple pie\\n',\n",
       " 'Baby back ribs\\n',\n",
       " 'Baklava\\n',\n",
       " 'Beef carpaccio\\n',\n",
       " 'Beef tartare\\n']"
      ]
     },
     "execution_count": 4,
     "metadata": {},
     "output_type": "execute_result"
    }
   ],
   "source": [
    "food_names[:5]"
   ]
  },
  {
   "cell_type": "code",
   "execution_count": 9,
   "id": "596aa5a3",
   "metadata": {},
   "outputs": [],
   "source": [
    "food_names_clean = []\n",
    "for element in food_names:\n",
    "    food_names_clean.append(element.strip())"
   ]
  },
  {
   "cell_type": "code",
   "execution_count": 10,
   "id": "61be5fd2",
   "metadata": {},
   "outputs": [
    {
     "data": {
      "text/plain": [
       "['Apple pie', 'Baby back ribs', 'Baklava', 'Beef carpaccio', 'Beef tartare']"
      ]
     },
     "execution_count": 10,
     "metadata": {},
     "output_type": "execute_result"
    }
   ],
   "source": [
    "food_names_clean[:5]"
   ]
  },
  {
   "cell_type": "code",
   "execution_count": 11,
   "id": "08b00416",
   "metadata": {},
   "outputs": [],
   "source": [
    "def check_space (name):\n",
    "    if(\" \" in name):\n",
    "        name = name.replace(\" \",\"%20\") \n",
    "    return(name)"
   ]
  },
  {
   "cell_type": "code",
   "execution_count": 169,
   "id": "c809dce5",
   "metadata": {},
   "outputs": [
    {
     "data": {
      "text/plain": [
       "'http://www.epicurious.com/search/Cheesecake?content=recipe&sort=mostReviewed'"
      ]
     },
     "execution_count": 169,
     "metadata": {},
     "output_type": "execute_result"
    }
   ],
   "source": [
    "base_url = 'http://www.epicurious.com/search/'\n",
    "food_item = food_names_clean[16]\n",
    "search_url = \"?content=recipe&sort=mostReviewed\"\n",
    "final_url = '{}{}{}'.format(base_url,food_item,search_url)\n",
    "final_url"
   ]
  },
  {
   "cell_type": "code",
   "execution_count": 170,
   "id": "92f7985c",
   "metadata": {},
   "outputs": [],
   "source": [
    "result = requests.get(final_url)"
   ]
  },
  {
   "cell_type": "code",
   "execution_count": 171,
   "id": "b0e11d6d",
   "metadata": {},
   "outputs": [],
   "source": [
    "soup = BeautifulSoup(result.text,'html.parser')"
   ]
  },
  {
   "cell_type": "code",
   "execution_count": 13,
   "id": "6a5c9944",
   "metadata": {},
   "outputs": [],
   "source": [
    "def GetandParseURL(final_url):\n",
    "    result = requests.get(final_url)\n",
    "    soup = BeautifulSoup(result.text,'html.parser')\n",
    "    return(soup)"
   ]
  },
  {
   "cell_type": "code",
   "execution_count": 246,
   "id": "ee7c106c",
   "metadata": {},
   "outputs": [
    {
     "name": "stdout",
     "output_type": "stream",
     "text": [
      "/\n",
      "/recipes/food/views/pumpkin-cheesecake-with-bourbon-sour-cream-topping-13386\n",
      "/recipes/food/views/pumpkin-cheesecake-with-bourbon-sour-cream-topping-13386\n",
      "/recipes/food/views/pumpkin-cheesecake-with-bourbon-sour-cream-topping-13386\n",
      "/recipes/food/views/pumpkin-cheesecake-with-bourbon-sour-cream-topping-13386\n",
      "/recipes/food/views/pumpkin-cheesecake-with-bourbon-sour-cream-topping-13386\n",
      "None\n",
      "/recipes/food/views/pumpkin-cheesecake-with-caramel-swirl-2635\n",
      "/recipes/food/views/pumpkin-cheesecake-with-caramel-swirl-2635\n",
      "/recipes/food/views/pumpkin-cheesecake-with-caramel-swirl-2635\n",
      "/recipes/food/views/pumpkin-cheesecake-with-caramel-swirl-2635\n",
      "/recipes/food/views/pumpkin-cheesecake-with-caramel-swirl-2635\n",
      "None\n",
      "/recipes/food/views/new-york-cheesecake-102592\n",
      "/recipes/food/views/new-york-cheesecake-102592\n",
      "/recipes/food/views/new-york-cheesecake-102592\n",
      "/recipes/food/views/new-york-cheesecake-102592\n",
      "/recipes/food/views/new-york-cheesecake-102592\n",
      "None\n",
      "/recipes/food/views/bourbon-pumpkin-cheesecake-108770\n",
      "/recipes/food/views/bourbon-pumpkin-cheesecake-108770\n",
      "/recipes/food/views/bourbon-pumpkin-cheesecake-108770\n",
      "/recipes/food/views/bourbon-pumpkin-cheesecake-108770\n",
      "/recipes/food/views/bourbon-pumpkin-cheesecake-108770\n",
      "None\n",
      "/recipes/food/views/white-chocolate-and-strawberry-cheesecake-103290\n",
      "/recipes/food/views/white-chocolate-and-strawberry-cheesecake-103290\n",
      "/recipes/food/views/white-chocolate-and-strawberry-cheesecake-103290\n",
      "/recipes/food/views/white-chocolate-and-strawberry-cheesecake-103290\n",
      "/recipes/food/views/white-chocolate-and-strawberry-cheesecake-103290\n",
      "None\n",
      "/recipes/food/views/lemon-curd-marbled-cheesecake-1222199\n",
      "/recipes/food/views/lemon-curd-marbled-cheesecake-1222199\n",
      "/recipes/food/views/lemon-curd-marbled-cheesecake-1222199\n",
      "/recipes/food/views/lemon-curd-marbled-cheesecake-1222199\n",
      "/recipes/food/views/lemon-curd-marbled-cheesecake-1222199\n",
      "None\n",
      "/recipes/food/views/toffee-crunch-caramel-cheesecake-231417\n",
      "/recipes/food/views/toffee-crunch-caramel-cheesecake-231417\n",
      "/recipes/food/views/toffee-crunch-caramel-cheesecake-231417\n",
      "/recipes/food/views/toffee-crunch-caramel-cheesecake-231417\n",
      "/recipes/food/views/toffee-crunch-caramel-cheesecake-231417\n",
      "None\n",
      "/recipes/food/views/three-cities-of-spain-cheesecake-102595\n",
      "/recipes/food/views/three-cities-of-spain-cheesecake-102595\n",
      "/recipes/food/views/three-cities-of-spain-cheesecake-102595\n",
      "/recipes/food/views/three-cities-of-spain-cheesecake-102595\n",
      "/recipes/food/views/three-cities-of-spain-cheesecake-102595\n",
      "None\n",
      "/recipes/food/views/double-chocolate-cheesecake-4484\n",
      "/recipes/food/views/double-chocolate-cheesecake-4484\n",
      "/recipes/food/views/double-chocolate-cheesecake-4484\n",
      "/recipes/food/views/double-chocolate-cheesecake-4484\n",
      "/recipes/food/views/double-chocolate-cheesecake-4484\n",
      "None\n",
      "/recipes/food/views/deep-dark-chocolate-cheesecake-236209\n",
      "/recipes/food/views/deep-dark-chocolate-cheesecake-236209\n",
      "/recipes/food/views/deep-dark-chocolate-cheesecake-236209\n",
      "/recipes/food/views/deep-dark-chocolate-cheesecake-236209\n",
      "/recipes/food/views/deep-dark-chocolate-cheesecake-236209\n",
      "None\n",
      "/recipes/food/views/cappuccino-fudge-cheesecake-106231\n",
      "/recipes/food/views/cappuccino-fudge-cheesecake-106231\n",
      "/recipes/food/views/cappuccino-fudge-cheesecake-106231\n",
      "/recipes/food/views/cappuccino-fudge-cheesecake-106231\n",
      "/recipes/food/views/cappuccino-fudge-cheesecake-106231\n",
      "None\n",
      "/recipes/food/views/spiced-pumpkin-cheesecake-107190\n",
      "/recipes/food/views/spiced-pumpkin-cheesecake-107190\n",
      "/recipes/food/views/spiced-pumpkin-cheesecake-107190\n",
      "/recipes/food/views/spiced-pumpkin-cheesecake-107190\n",
      "/recipes/food/views/spiced-pumpkin-cheesecake-107190\n",
      "None\n",
      "/recipes/food/views/mascarpone-cheesecake-108903\n",
      "/recipes/food/views/mascarpone-cheesecake-108903\n",
      "/recipes/food/views/mascarpone-cheesecake-108903\n",
      "/recipes/food/views/mascarpone-cheesecake-108903\n",
      "/recipes/food/views/mascarpone-cheesecake-108903\n",
      "None\n",
      "/recipes/food/views/christmas-cheesecake-with-english-toffee-filling-104513\n",
      "/recipes/food/views/christmas-cheesecake-with-english-toffee-filling-104513\n",
      "/recipes/food/views/christmas-cheesecake-with-english-toffee-filling-104513\n",
      "/recipes/food/views/christmas-cheesecake-with-english-toffee-filling-104513\n",
      "/recipes/food/views/christmas-cheesecake-with-english-toffee-filling-104513\n",
      "None\n",
      "/recipes/food/views/key-lime-cheesecake-236210\n",
      "/recipes/food/views/key-lime-cheesecake-236210\n",
      "/recipes/food/views/key-lime-cheesecake-236210\n",
      "/recipes/food/views/key-lime-cheesecake-236210\n",
      "/recipes/food/views/key-lime-cheesecake-236210\n",
      "None\n",
      "/recipes/food/views/spiced-pumpkin-cheesecake-with-caramel-bourbon-sauce-233179\n",
      "/recipes/food/views/spiced-pumpkin-cheesecake-with-caramel-bourbon-sauce-233179\n",
      "/recipes/food/views/spiced-pumpkin-cheesecake-with-caramel-bourbon-sauce-233179\n",
      "/recipes/food/views/spiced-pumpkin-cheesecake-with-caramel-bourbon-sauce-233179\n",
      "/recipes/food/views/spiced-pumpkin-cheesecake-with-caramel-bourbon-sauce-233179\n",
      "None\n",
      "/recipes/food/views/lemon-cheesecake-with-shortbread-cookie-crust-100948\n",
      "/recipes/food/views/lemon-cheesecake-with-shortbread-cookie-crust-100948\n",
      "/recipes/food/views/lemon-cheesecake-with-shortbread-cookie-crust-100948\n",
      "/recipes/food/views/lemon-cheesecake-with-shortbread-cookie-crust-100948\n",
      "/recipes/food/views/lemon-cheesecake-with-shortbread-cookie-crust-100948\n",
      "None\n",
      "/recipes/food/views/strawberry-topped-cheesecake-with-graham-cracker-crust-4655\n",
      "/recipes/food/views/strawberry-topped-cheesecake-with-graham-cracker-crust-4655\n",
      "/recipes/food/views/strawberry-topped-cheesecake-with-graham-cracker-crust-4655\n",
      "/recipes/food/views/strawberry-topped-cheesecake-with-graham-cracker-crust-4655\n",
      "/recipes/food/views/strawberry-topped-cheesecake-with-graham-cracker-crust-4655\n",
      "None\n",
      "/search/Cheesecake?content=recipe&sort=mostReviewed&page=2\n",
      "/search/Cheesecake?content=recipe&sort=mostReviewed&page=3\n",
      "/search/Cheesecake?content=recipe&sort=mostReviewed&page=4\n",
      "/search/Cheesecake?content=recipe&sort=mostReviewed&page=5\n",
      "/search/Cheesecake?content=recipe&sort=mostReviewed&page=6\n",
      "/search/Cheesecake?content=recipe&sort=mostReviewed&page=14\n",
      "/search/Cheesecake?content=recipe&sort=mostReviewed&page=2\n",
      "http://www.allure.com\n",
      "http://www.architecturaldigest.com\n",
      "http://www.arstechnica.com\n",
      "http://www.bonappetit.com\n",
      "http://www.concierge.com/cntraveler\n",
      "http://www.concierge.com\n",
      "http://www.details.com\n",
      "http://www.glamour.com\n",
      "http://www.gq.com\n",
      "http://www.hotelchatter.com\n",
      "http://www.jaunted.com\n",
      "http://www.luckymag.com\n",
      "http://www.nutritiondata.com\n",
      "http://www.reddit.com\n",
      "http://www.self.com\n",
      "http://www.style.com\n",
      "http://www.teenvogue.com\n",
      "http://www.newyorker.com\n",
      "http://thescene.com\n",
      "http://www.vanityfair.com\n",
      "http://www.vegaschatter.com\n",
      "http://www.vogue.com\n",
      "http://www.wired.com\n",
      "/services/subscriptions\n",
      "http://www.condenast.com/careers\n",
      "http://www.condenaststore.com/\n",
      "http://www.condenast.com/reprints-permissions\n",
      "https://www.condenast.com/user-agreement/\n",
      "http://www.condenast.com/privacy-policy#privacypolicy\n",
      "http://www.condenast.com/privacy-policy#privacypolicy-california\n",
      "http://www.condenast.com/online-behavioral-advertising-oba-and-how-to-opt-out-of-oba/#clickheretoreadmoreaboutonlinebehavioraladvertising(oba)\n",
      "https://parsely.com\n"
     ]
    }
   ],
   "source": [
    "recipe_links = []\n",
    "for link in soup.find_all('a'):\n",
    "    link = link.get('href')\n",
    "    if link is not None:\n",
    "        recipe_links.append(link.split(\" \"))\n",
    "    print(link)"
   ]
  },
  {
   "cell_type": "code",
   "execution_count": 257,
   "id": "2ab8a2e0",
   "metadata": {},
   "outputs": [
    {
     "data": {
      "text/plain": [
       "['/recipes/food/views/pumpkin-cheesecake-with-bourbon-sour-cream-topping-13386',\n",
       " '/recipes/food/views/pumpkin-cheesecake-with-caramel-swirl-2635',\n",
       " '/recipes/food/views/new-york-cheesecake-102592',\n",
       " '/recipes/food/views/bourbon-pumpkin-cheesecake-108770',\n",
       " '/recipes/food/views/white-chocolate-and-strawberry-cheesecake-103290']"
      ]
     },
     "execution_count": 257,
     "metadata": {},
     "output_type": "execute_result"
    }
   ],
   "source": [
    "u,ind = np.unique(recipe_links, return_index = True)\n",
    "best_recipes = u[np.argsort(ind)].tolist()[1:6]\n",
    "best_recipes"
   ]
  },
  {
   "cell_type": "code",
   "execution_count": 249,
   "id": "834b4490",
   "metadata": {},
   "outputs": [],
   "source": [
    "best_recipes_url = []\n",
    "for element in best_recipes:\n",
    "    best_recipes_url.append(\"http://www.epicurious.com\"+element)"
   ]
  },
  {
   "cell_type": "code",
   "execution_count": 250,
   "id": "fa2b2fee",
   "metadata": {},
   "outputs": [
    {
     "data": {
      "text/plain": [
       "['http://www.epicurious.com/recipes/food/views/pumpkin-cheesecake-with-bourbon-sour-cream-topping-13386',\n",
       " 'http://www.epicurious.com/recipes/food/views/pumpkin-cheesecake-with-caramel-swirl-2635',\n",
       " 'http://www.epicurious.com/recipes/food/views/new-york-cheesecake-102592',\n",
       " 'http://www.epicurious.com/recipes/food/views/bourbon-pumpkin-cheesecake-108770',\n",
       " 'http://www.epicurious.com/recipes/food/views/white-chocolate-and-strawberry-cheesecake-103290']"
      ]
     },
     "execution_count": 250,
     "metadata": {},
     "output_type": "execute_result"
    }
   ],
   "source": [
    "best_recipes_url"
   ]
  },
  {
   "cell_type": "code",
   "execution_count": 178,
   "id": "ec5af6da",
   "metadata": {},
   "outputs": [
    {
     "name": "stdout",
     "output_type": "stream",
     "text": [
      "None\n",
      "None\n",
      "Pumpkin Cheesecake with Bourbon-Cream Topping\n",
      "None\n",
      "None\n",
      "None\n",
      "None\n",
      "None\n",
      "Pumpkin Cheesecake with Caramel Swirl\n",
      "None\n",
      "None\n",
      "None\n",
      "None\n",
      "None\n",
      "New York Cheesecake\n",
      "None\n",
      "None\n",
      "None\n",
      "None\n",
      "None\n",
      "Bourbon Pumpkin Cheesecake\n",
      "None\n",
      "None\n",
      "None\n",
      "None\n",
      "None\n",
      "White Chocolate and Strawberry Cheesecake\n",
      "None\n",
      "None\n",
      "None\n",
      "None\n",
      "None\n",
      "Lemon Curd Cheesecake\n",
      "None\n",
      "None\n",
      "None\n",
      "None\n",
      "None\n",
      "Toffee Crunch Caramel Cheesecake\n",
      "None\n",
      "None\n",
      "None\n",
      "None\n",
      "None\n",
      "Three Cities of Spain Cheesecake\n",
      "None\n",
      "None\n",
      "None\n",
      "None\n",
      "None\n",
      "Double-Chocolate Cheesecake\n",
      "None\n",
      "None\n",
      "None\n",
      "None\n",
      "None\n",
      "Deep Dark Chocolate Cheesecake\n",
      "None\n",
      "None\n",
      "None\n",
      "None\n",
      "None\n",
      "Cappuccino-Fudge Cheesecake\n",
      "None\n",
      "None\n",
      "None\n",
      "None\n",
      "None\n",
      "Spiced Pumpkin Cheesecake\n",
      "None\n",
      "None\n",
      "None\n",
      "None\n",
      "None\n",
      "Mascarpone Cheesecake\n",
      "None\n",
      "None\n",
      "None\n",
      "None\n",
      "None\n",
      "Christmas Cheesecake with English Toffee Filling\n",
      "None\n",
      "None\n",
      "None\n",
      "None\n",
      "None\n",
      "Key Lime Cheesecake\n",
      "None\n",
      "None\n",
      "None\n",
      "None\n",
      "None\n",
      "Spiced Pumpkin Cheesecake with Caramel-Bourbon Sauce\n",
      "None\n",
      "None\n",
      "None\n",
      "None\n",
      "None\n",
      "Lemon Cheesecake with Shortbread Cookie Crust\n",
      "None\n",
      "None\n",
      "None\n",
      "None\n",
      "None\n",
      "Strawberry-Topped Cheesecake with Graham Cracker Crust\n",
      "None\n",
      "None\n",
      "None\n",
      "None\n",
      "None\n",
      "None\n",
      "None\n",
      "None\n",
      "None\n",
      "None\n",
      "None\n",
      "None\n",
      "None\n",
      "None\n",
      "None\n",
      "None\n",
      "None\n",
      "None\n",
      "None\n",
      "None\n",
      "None\n",
      "None\n",
      "None\n",
      "None\n",
      "None\n",
      "None\n",
      "None\n",
      "None\n",
      "None\n",
      "None\n",
      "None\n",
      "None\n",
      "None\n",
      "None\n",
      "None\n",
      "None\n",
      "None\n",
      "None\n",
      "None\n",
      "None\n",
      "None\n",
      "None\n",
      "None\n"
     ]
    }
   ],
   "source": [
    "recipe_names = []\n",
    "for link in soup.find_all('a'):\n",
    "    link = link.get('aria-label')\n",
    "    if link is not None:\n",
    "        recipe_names.append(link)\n",
    "    print(link)"
   ]
  },
  {
   "cell_type": "code",
   "execution_count": 179,
   "id": "26ac46fc",
   "metadata": {},
   "outputs": [],
   "source": [
    "u,ind = np.unique(recipe_names, return_index = True)\n",
    "best_recipes_names = u[np.argsort(ind)].tolist()[0:5]"
   ]
  },
  {
   "cell_type": "code",
   "execution_count": 180,
   "id": "a89b0fcc",
   "metadata": {},
   "outputs": [
    {
     "data": {
      "text/plain": [
       "['Pumpkin Cheesecake with Bourbon-Cream Topping',\n",
       " 'Pumpkin Cheesecake with Caramel Swirl',\n",
       " 'New York Cheesecake',\n",
       " 'Bourbon Pumpkin Cheesecake',\n",
       " 'White Chocolate and Strawberry Cheesecake']"
      ]
     },
     "execution_count": 180,
     "metadata": {},
     "output_type": "execute_result"
    }
   ],
   "source": [
    "best_recipes_names"
   ]
  },
  {
   "cell_type": "code",
   "execution_count": 181,
   "id": "31373bfe",
   "metadata": {},
   "outputs": [
    {
     "data": {
      "text/html": [
       "<div>\n",
       "<style scoped>\n",
       "    .dataframe tbody tr th:only-of-type {\n",
       "        vertical-align: middle;\n",
       "    }\n",
       "\n",
       "    .dataframe tbody tr th {\n",
       "        vertical-align: top;\n",
       "    }\n",
       "\n",
       "    .dataframe thead th {\n",
       "        text-align: right;\n",
       "    }\n",
       "</style>\n",
       "<table border=\"1\" class=\"dataframe\">\n",
       "  <thead>\n",
       "    <tr style=\"text-align: right;\">\n",
       "      <th></th>\n",
       "      <th>Names</th>\n",
       "      <th>Links</th>\n",
       "    </tr>\n",
       "  </thead>\n",
       "  <tbody>\n",
       "    <tr>\n",
       "      <th>0</th>\n",
       "      <td>Pumpkin Cheesecake with Bourbon-Cream Topping</td>\n",
       "      <td>http://www.epicurious.com/recipes/food/views/pumpkin-cheesecake-with-bourbon-sour-cream-topping-13386</td>\n",
       "    </tr>\n",
       "    <tr>\n",
       "      <th>1</th>\n",
       "      <td>Pumpkin Cheesecake with Caramel Swirl</td>\n",
       "      <td>http://www.epicurious.com/recipes/food/views/pumpkin-cheesecake-with-caramel-swirl-2635</td>\n",
       "    </tr>\n",
       "    <tr>\n",
       "      <th>2</th>\n",
       "      <td>New York Cheesecake</td>\n",
       "      <td>http://www.epicurious.com/recipes/food/views/new-york-cheesecake-102592</td>\n",
       "    </tr>\n",
       "    <tr>\n",
       "      <th>3</th>\n",
       "      <td>Bourbon Pumpkin Cheesecake</td>\n",
       "      <td>http://www.epicurious.com/recipes/food/views/bourbon-pumpkin-cheesecake-108770</td>\n",
       "    </tr>\n",
       "    <tr>\n",
       "      <th>4</th>\n",
       "      <td>White Chocolate and Strawberry Cheesecake</td>\n",
       "      <td>http://www.epicurious.com/recipes/food/views/white-chocolate-and-strawberry-cheesecake-103290</td>\n",
       "    </tr>\n",
       "  </tbody>\n",
       "</table>\n",
       "</div>"
      ],
      "text/plain": [
       "                                           Names  \\\n",
       "0  Pumpkin Cheesecake with Bourbon-Cream Topping   \n",
       "1          Pumpkin Cheesecake with Caramel Swirl   \n",
       "2                            New York Cheesecake   \n",
       "3                     Bourbon Pumpkin Cheesecake   \n",
       "4      White Chocolate and Strawberry Cheesecake   \n",
       "\n",
       "                                                                                                   Links  \n",
       "0  http://www.epicurious.com/recipes/food/views/pumpkin-cheesecake-with-bourbon-sour-cream-topping-13386  \n",
       "1                http://www.epicurious.com/recipes/food/views/pumpkin-cheesecake-with-caramel-swirl-2635  \n",
       "2                                http://www.epicurious.com/recipes/food/views/new-york-cheesecake-102592  \n",
       "3                         http://www.epicurious.com/recipes/food/views/bourbon-pumpkin-cheesecake-108770  \n",
       "4          http://www.epicurious.com/recipes/food/views/white-chocolate-and-strawberry-cheesecake-103290  "
      ]
     },
     "execution_count": 181,
     "metadata": {},
     "output_type": "execute_result"
    }
   ],
   "source": [
    "pd.set_option(\"display.max_colwidth\", 400)\n",
    "output_df = pd.DataFrame( data = {'Names' :best_recipes_names, 'Links' : best_recipes_url})\n",
    "output_df"
   ]
  },
  {
   "cell_type": "code",
   "execution_count": 5,
   "id": "61fa3fe0",
   "metadata": {},
   "outputs": [],
   "source": [
    "def find_recipes_link(soup):\n",
    "    recipe_links = []\n",
    "    best_recipes_url = []\n",
    "    for link in soup.find_all('a'):\n",
    "        link = link.get('href')\n",
    "        if link is not None:\n",
    "            link = link.split(\" \")\n",
    "            recipe_links.append(link)\n",
    "    u,ind = np.unique(recipe_links, return_index = True)\n",
    "    best_recipes = u[np.argsort(ind)].tolist()[1:6]\n",
    "    if any(isinstance(i, list) for i in best_recipes):\n",
    "        best_recipes = sum(best_recipes,[])\n",
    "    for element in best_recipes:\n",
    "        best_recipes_url.append(\"http://www.epicurious.com\"+element)\n",
    "    return(best_recipes_url)  "
   ]
  },
  {
   "cell_type": "code",
   "execution_count": 6,
   "id": "f201833e",
   "metadata": {},
   "outputs": [],
   "source": [
    "def find_recipes_names(soup):\n",
    "    recipe_names = []\n",
    "    for link in soup.find_all('a'):\n",
    "        link = link.get('aria-label')\n",
    "        if link is not None:\n",
    "            recipe_names.append(link)\n",
    "    u,ind = np.unique(recipe_names, return_index = True)\n",
    "    best_recipes_names = u[np.argsort(ind)].tolist()[0:5]\n",
    "    return(best_recipes_names)"
   ]
  },
  {
   "cell_type": "code",
   "execution_count": 7,
   "id": "f4607ca4",
   "metadata": {},
   "outputs": [],
   "source": [
    "def url_finder_epi(food):\n",
    "    input = check_space(food)\n",
    "    base_url = 'http://www.epicurious.com/search/'\n",
    "    food_item = input\n",
    "    search_url = \"?content=recipe&sort=mostReviewed\"\n",
    "    final_url = '{}{}{}'.format(base_url,food_item,search_url)\n",
    "    soup = GetandParseURL(final_url)\n",
    "    best_recipes_url = find_recipes_link(soup)\n",
    "    best_recipes_names = find_recipes_names(soup)\n",
    "    output_df = pd.DataFrame( data = {'Names' :best_recipes_names, 'Links' : best_recipes_url})\n",
    "    return(output_df)"
   ]
  },
  {
   "cell_type": "code",
   "execution_count": 374,
   "id": "ddbbf0b8",
   "metadata": {},
   "outputs": [],
   "source": [
    "def url_finder_fn(food):\n",
    "    input = check_space(food)\n",
    "    base_url = 'http://www.foodnetwork.com/search/'\n",
    "    food_item = input\n",
    "    search_url = \"/CUSTOM_FACET:RECIPE_FACET\"\n",
    "    final_url = '{}{}-{}'.format(base_url,food_item,search_url)\n",
    "    soup = GetandParseURL(final_url)\n",
    "    recipe_links = []\n",
    "    for link in soup.find_all('h3', class_ = \"m-MediaBlock__a-Headline\"):\n",
    "        link = link.find('a')\n",
    "        link = link.get(\"href\")[2:]\n",
    "        recipe_links.append(link)\n",
    "    best_recipe_links = recipe_links[:5]\n",
    "    recipe_names = []\n",
    "    for link in soup.find_all('h3', class_ = \"m-MediaBlock__a-Headline\"):\n",
    "        link = link.find(class_ = \"m-MediaBlock__a-HeadlineText\").text\n",
    "        if link is not None:\n",
    "            recipe_names.append(link)\n",
    "    best_recipe_names = recipe_names[:5]  \n",
    "    output_df = pd.DataFrame( data = {'Names' :best_recipe_names, 'Links' : best_recipe_links})\n",
    "    return(output_df)"
   ]
  },
  {
   "cell_type": "code",
   "execution_count": 471,
   "id": "fd959c05",
   "metadata": {},
   "outputs": [],
   "source": [
    "def url_finder_ar(food):\n",
    "    input = check_space(food)\n",
    "    base_url = 'https://www.allrecipes.com/search/results/'\n",
    "    food_item = input\n",
    "    search_url = \"?search\"\n",
    "    final_url = '{}{}={}'.format(base_url,search_url,food_item)\n",
    "    soup = GetandParseURL(final_url)\n",
    "    recipe_links = []\n",
    "    for link in soup.find_all('div',class_ =\"card__imageContainer\"):\n",
    "        link = link.find('a')\n",
    "        link = link.get(\"href\")\n",
    "        recipe_links.append(link)\n",
    "    best_recipe_links = recipe_links[:10]\n",
    "    recipe_names = []\n",
    "    for link in soup.find_all('div',class_ =\"card__imageContainer\"):\n",
    "        link = link.find('a')\n",
    "        link = link.get(\"title\")\n",
    "        recipe_names.append(link)\n",
    "    best_recipe_names = recipe_names[:10] \n",
    "    output_df = pd.DataFrame( data = {'Names' :best_recipe_names, 'Links' : best_recipe_links})\n",
    "    return(output_df)"
   ]
  },
  {
   "cell_type": "code",
   "execution_count": 16,
   "id": "347da4f7",
   "metadata": {},
   "outputs": [
    {
     "data": {
      "text/html": [
       "<div>\n",
       "<style scoped>\n",
       "    .dataframe tbody tr th:only-of-type {\n",
       "        vertical-align: middle;\n",
       "    }\n",
       "\n",
       "    .dataframe tbody tr th {\n",
       "        vertical-align: top;\n",
       "    }\n",
       "\n",
       "    .dataframe thead th {\n",
       "        text-align: right;\n",
       "    }\n",
       "</style>\n",
       "<table border=\"1\" class=\"dataframe\">\n",
       "  <thead>\n",
       "    <tr style=\"text-align: right;\">\n",
       "      <th></th>\n",
       "      <th>Names</th>\n",
       "      <th>Links</th>\n",
       "    </tr>\n",
       "  </thead>\n",
       "  <tbody>\n",
       "    <tr>\n",
       "      <th>0</th>\n",
       "      <td>Chocolate Mousse Pie</td>\n",
       "      <td>http://www.epicurious.com/recipes/food/views/c...</td>\n",
       "    </tr>\n",
       "    <tr>\n",
       "      <th>1</th>\n",
       "      <td>Chocolate Mousse</td>\n",
       "      <td>http://www.epicurious.com/recipes/food/views/c...</td>\n",
       "    </tr>\n",
       "    <tr>\n",
       "      <th>2</th>\n",
       "      <td>Lemon Curd Mousse Cake</td>\n",
       "      <td>http://www.epicurious.com/recipes/food/views/l...</td>\n",
       "    </tr>\n",
       "    <tr>\n",
       "      <th>3</th>\n",
       "      <td>Triple-Chocolate Celebration Cake</td>\n",
       "      <td>http://www.epicurious.com/recipes/food/views/t...</td>\n",
       "    </tr>\n",
       "    <tr>\n",
       "      <th>4</th>\n",
       "      <td>Lime Mousse Cake</td>\n",
       "      <td>http://www.epicurious.com/recipes/food/views/l...</td>\n",
       "    </tr>\n",
       "  </tbody>\n",
       "</table>\n",
       "</div>"
      ],
      "text/plain": [
       "                               Names  \\\n",
       "0               Chocolate Mousse Pie   \n",
       "1                   Chocolate Mousse   \n",
       "2             Lemon Curd Mousse Cake   \n",
       "3  Triple-Chocolate Celebration Cake   \n",
       "4                   Lime Mousse Cake   \n",
       "\n",
       "                                               Links  \n",
       "0  http://www.epicurious.com/recipes/food/views/c...  \n",
       "1  http://www.epicurious.com/recipes/food/views/c...  \n",
       "2  http://www.epicurious.com/recipes/food/views/l...  \n",
       "3  http://www.epicurious.com/recipes/food/views/t...  \n",
       "4  http://www.epicurious.com/recipes/food/views/l...  "
      ]
     },
     "execution_count": 16,
     "metadata": {},
     "output_type": "execute_result"
    }
   ],
   "source": [
    "import pandas as pd\n",
    "url_finder_epi(\"Mousse\")"
   ]
  },
  {
   "cell_type": "code",
   "execution_count": null,
   "id": "291ad8dc",
   "metadata": {},
   "outputs": [],
   "source": []
  }
 ],
 "metadata": {
  "kernelspec": {
   "display_name": "Python 3 (ipykernel)",
   "language": "python",
   "name": "python3"
  },
  "language_info": {
   "codemirror_mode": {
    "name": "ipython",
    "version": 3
   },
   "file_extension": ".py",
   "mimetype": "text/x-python",
   "name": "python",
   "nbconvert_exporter": "python",
   "pygments_lexer": "ipython3",
   "version": "3.8.11"
  }
 },
 "nbformat": 4,
 "nbformat_minor": 5
}
